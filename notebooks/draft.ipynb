{
 "cells": [
  {
   "cell_type": "code",
   "execution_count": null,
   "metadata": {},
   "outputs": [],
   "source": [
    "import numpy as np\n",
    "import pandas as pd\n",
    "import os\n",
    "import torch\n",
    "\n",
    "os.chdir(\"../\")\n",
    "\n",
    "from src.conf import LAYERS_DIMS, MODEL_FEATURES\n",
    "from src.utils import get_device, read_data_from_s3\n",
    "from src.data import DataLoaders\n",
    "from src.models import FraudAutoEncoder\n",
    "from src.models import Model_Inference"
   ]
  },
  {
   "cell_type": "code",
   "execution_count": null,
   "metadata": {},
   "outputs": [],
   "source": [
    "read_data_from_s3('data/typical_customers.gzip').drop(columns=[\"Ids\", \"Y\"], axis=1).values"
   ]
  },
  {
   "cell_type": "code",
   "execution_count": null,
   "metadata": {},
   "outputs": [],
   "source": []
  },
  {
   "cell_type": "markdown",
   "metadata": {},
   "source": [
    "## Data Gen"
   ]
  },
  {
   "cell_type": "code",
   "execution_count": null,
   "metadata": {},
   "outputs": [],
   "source": [
    "n_, k_ = 10_000, 300\n",
    "\n",
    "_n = 1_000"
   ]
  },
  {
   "cell_type": "code",
   "execution_count": null,
   "metadata": {},
   "outputs": [],
   "source": [
    "_data = np.concatenate(\n",
    "    (\n",
    "        np.concatenate(\n",
    "            (np.random.uniform(**{\"low\": -1, \"high\": 0, \"size\": [_n, k_]}), np.ones((_n, 1))),\n",
    "            axis=1\n",
    "        ),\n",
    "        np.concatenate(\n",
    "            (np.random.uniform(**{\"low\": 0, \"high\": 1, \"size\": [n_, k_]}), np.zeros((n_, 1))),\n",
    "            axis=1\n",
    "        )\n",
    "    )\n",
    ")\n",
    "\n",
    "all_customers_data = pd.DataFrame(\n",
    "    data=_data,\n",
    "    columns=[*[f\"X_{str(i).zfill(3)}\" for i in range(1, 1+k_)], \"Y\"]\n",
    ").sample(frac=1).reset_index().rename(columns={\"index\": \"Ids\"})\n",
    "\n",
    "all_customers_data.to_parquet(\"./data/all_customers.gzip\", compression=\"gzip\")\n",
    "\n",
    "all_customers_data.query(\"Y == 0\").to_parquet(\"./data/typical_customers.gzip\", compression=\"gzip\")\n"
   ]
  },
  {
   "cell_type": "code",
   "execution_count": null,
   "metadata": {},
   "outputs": [],
   "source": [
    "all_customers_data"
   ]
  },
  {
   "cell_type": "code",
   "execution_count": null,
   "metadata": {},
   "outputs": [],
   "source": []
  },
  {
   "cell_type": "markdown",
   "metadata": {},
   "source": [
    "## Model Loading"
   ]
  },
  {
   "cell_type": "code",
   "execution_count": null,
   "metadata": {},
   "outputs": [],
   "source": [
    "# Model_Inference(\"on_real_data\")._error_eval(X.values[98])"
   ]
  },
  {
   "cell_type": "code",
   "execution_count": null,
   "metadata": {},
   "outputs": [],
   "source": [
    "!nvidia-smi"
   ]
  },
  {
   "cell_type": "code",
   "execution_count": null,
   "metadata": {},
   "outputs": [],
   "source": [
    "import s3fs\n",
    "import yaml\n",
    "\n",
    "with open('./data/s3_credentials.yaml', 'r') as file:\n",
    "    access_keys = yaml.safe_load(file)\n",
    "\n",
    "fs = s3fs.S3FileSystem(\n",
    "    key = access_keys[\"key\"],\n",
    "    secret = access_keys[\"secret\"]\n",
    ")\n",
    "\n",
    "pd.read_parquet(\n",
    "    fs.open(fs.ls('customer-data-platform-retail/test_data/')[0])\n",
    ")"
   ]
  },
  {
   "cell_type": "code",
   "execution_count": null,
   "metadata": {},
   "outputs": [],
   "source": [
    "import awswrangler\n",
    "import boto3\n",
    "\n",
    "boto3_session = boto3.Session(\n",
    "    aws_access_key_id=access_keys[\"key\"],\n",
    "    aws_secret_access_key=access_keys[\"secret\"],\n",
    "    region_name=access_keys[\"region\"]\n",
    ")\n",
    "\n",
    "awswrangler.s3.upload(\n",
    "    local_file=\"/home/onyxia/work/fraud_detection/models/best_model_on_real_data.ckpt\",\n",
    "    path=\"s3://models-factory/best_model_on_real_data.ckpt\",\n",
    "    boto3_session= boto3_session\n",
    ")"
   ]
  },
  {
   "cell_type": "code",
   "execution_count": null,
   "metadata": {},
   "outputs": [],
   "source": [
    "import boto3\n",
    "\n",
    "s3 = boto3.client(\n",
    "    's3',\n",
    "    aws_access_key_id=access_keys[\"key\"], \n",
    "    aws_secret_access_key=access_keys[\"secret\"]\n",
    ")\n",
    "\n",
    "with open(\"/home/onyxia/work/fraud_detection/models/best_model_on_real_data.ckpt\", \"rb\") as f:\n",
    "    s3.upload_fileobj(f, \"models-registry\", \"best_model_on_real_data.ckpt\")"
   ]
  },
  {
   "cell_type": "code",
   "execution_count": null,
   "metadata": {},
   "outputs": [],
   "source": [
    "fs.ls(f\"customer-data-platform-retail/test_data/{'typical_customers.gzip'}\")[0]"
   ]
  },
  {
   "cell_type": "code",
   "execution_count": null,
   "metadata": {},
   "outputs": [],
   "source": []
  }
 ],
 "metadata": {
  "kernelspec": {
   "display_name": "base",
   "language": "python",
   "name": "python3"
  },
  "language_info": {
   "codemirror_mode": {
    "name": "ipython",
    "version": 3
   },
   "file_extension": ".py",
   "mimetype": "text/x-python",
   "name": "python",
   "nbconvert_exporter": "python",
   "pygments_lexer": "ipython3",
   "version": "3.10.12"
  },
  "orig_nbformat": 4
 },
 "nbformat": 4,
 "nbformat_minor": 2
}
