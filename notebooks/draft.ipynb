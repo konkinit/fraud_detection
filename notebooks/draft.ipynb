{
 "cells": [
  {
   "cell_type": "code",
   "execution_count": 1,
   "metadata": {},
   "outputs": [],
   "source": [
    "import numpy as np\n",
    "import pandas as pd\n",
    "import os\n",
    "import torch\n",
    "\n",
    "os.chdir(\"../\")\n",
    "\n",
    "from src.conf import LAYERS_DIMS, MODEL_FEATURES\n",
    "from src.utils import get_device\n",
    "from src.data import DataLoaders\n",
    "from src.models import FraudAutoEncoder"
   ]
  },
  {
   "cell_type": "markdown",
   "metadata": {},
   "source": [
    "## Data Gen"
   ]
  },
  {
   "cell_type": "code",
   "execution_count": 2,
   "metadata": {},
   "outputs": [],
   "source": [
    "n_, k_ = 1_000, 300"
   ]
  },
  {
   "cell_type": "code",
   "execution_count": 3,
   "metadata": {},
   "outputs": [],
   "source": [
    "pd.DataFrame(\n",
    "    data=np.random.uniform(** {\"low\": -1, \"high\": 1, \"size\": [n_, k_]}),\n",
    "    columns=[f\"X_{str(i).zfill(3)}\" for i in range(1, 1+k_)]\n",
    ").to_parquet(\"./data/simulated_raw_data_new_arrival.gzip\", compression=\"gzip\")"
   ]
  },
  {
   "cell_type": "code",
   "execution_count": 4,
   "metadata": {},
   "outputs": [],
   "source": [
    "X = pd.read_parquet(\"/home/onyxia/work/fraud_detection/data/simulated_raw_data_new_arrival.gzip\")"
   ]
  },
  {
   "cell_type": "markdown",
   "metadata": {},
   "source": [
    "## Model Loading"
   ]
  },
  {
   "cell_type": "code",
   "execution_count": 5,
   "metadata": {},
   "outputs": [],
   "source": [
    "for _, (x, y) in enumerate(DataLoaders(X, [0.7, 0.2, 0.1]).get_dataloaders()[0]):\n",
    "    assert y.shape[0] == x.shape[0]"
   ]
  },
  {
   "cell_type": "code",
   "execution_count": 14,
   "metadata": {},
   "outputs": [
    {
     "data": {
      "text/html": [
       "<div>\n",
       "<style scoped>\n",
       "    .dataframe tbody tr th:only-of-type {\n",
       "        vertical-align: middle;\n",
       "    }\n",
       "\n",
       "    .dataframe tbody tr th {\n",
       "        vertical-align: top;\n",
       "    }\n",
       "\n",
       "    .dataframe thead th {\n",
       "        text-align: right;\n",
       "    }\n",
       "</style>\n",
       "<table border=\"1\" class=\"dataframe\">\n",
       "  <thead>\n",
       "    <tr style=\"text-align: right;\">\n",
       "      <th></th>\n",
       "      <th>id</th>\n",
       "      <th>encode_decode_error</th>\n",
       "      <th>split</th>\n",
       "    </tr>\n",
       "  </thead>\n",
       "  <tbody>\n",
       "    <tr>\n",
       "      <th>0</th>\n",
       "      <td>1</td>\n",
       "      <td>2</td>\n",
       "      <td>train</td>\n",
       "    </tr>\n",
       "  </tbody>\n",
       "</table>\n",
       "</div>"
      ],
      "text/plain": [
       "  id encode_decode_error  split\n",
       "0  1                   2  train"
      ]
     },
     "execution_count": 14,
     "metadata": {},
     "output_type": "execute_result"
    }
   ],
   "source": [
    "encode_decode_errors = pd.DataFrame(\n",
    "    columns=[\"id\", \"encode_decode_error\", \"split\"]\n",
    ")\n",
    "\n",
    "encode_decode_errors = pd.concat([\n",
    "    encode_decode_errors,\n",
    "    pd.DataFrame(data=[{\n",
    "    \"id\": 1,\n",
    "    \"encode_decode_error\": 2,\n",
    "    \"split\": \"train\"}])\n",
    "])\n",
    "\n",
    "encode_decode_errors"
   ]
  },
  {
   "cell_type": "code",
   "execution_count": null,
   "metadata": {},
   "outputs": [],
   "source": [
    "DEVICE = get_device(1)\n",
    "\n",
    "_LAYERS_DIMS = LAYERS_DIMS(\n",
    "    INPUT_DIM=300,\n",
    "    HIDDEN_DIM=150,\n",
    "    CODE_DIM=35\n",
    ")\n",
    "model = FraudAutoEncoder(_LAYERS_DIMS).to(DEVICE)\n",
    "model_hyperparams = MODEL_FEATURES(\n",
    "    LEARNING_RATE=1e-3,\n",
    "    N_EPOCHS=100\n",
    ")\n",
    "optimizer = torch.optim.Adam(\n",
    "    model.parameters(),\n",
    "    lr=model_hyperparams.LEARNING_RATE\n",
    ")\n",
    "\n",
    "loss_criterion = torch.nn.MSELoss()"
   ]
  },
  {
   "cell_type": "code",
   "execution_count": null,
   "metadata": {},
   "outputs": [],
   "source": [
    "checkpoint = torch.load(\"./models/best_model_simulated_data.ckpt\", map_location=\"cuda\")\n",
    "model.load_state_dict(checkpoint['model_state_dict'])\n",
    "optimizer.load_state_dict(checkpoint['optimizer_state_dict'])\n",
    "epoch = checkpoint['epoch']\n",
    "\n",
    "model.eval()"
   ]
  },
  {
   "cell_type": "code",
   "execution_count": null,
   "metadata": {},
   "outputs": [],
   "source": [
    "error = torch.nn.MSELoss()\n",
    "\n",
    "_x = torch.from_numpy(X[0]).to(DEVICE).to(torch.float32)\n",
    "\n",
    "with torch.no_grad():\n",
    "    loss = torch.nn.MSELoss()\n",
    "    print(error(_x, model(_x)))"
   ]
  },
  {
   "cell_type": "code",
   "execution_count": null,
   "metadata": {},
   "outputs": [],
   "source": []
  }
 ],
 "metadata": {
  "kernelspec": {
   "display_name": "base",
   "language": "python",
   "name": "python3"
  },
  "language_info": {
   "codemirror_mode": {
    "name": "ipython",
    "version": 3
   },
   "file_extension": ".py",
   "mimetype": "text/x-python",
   "name": "python",
   "nbconvert_exporter": "python",
   "pygments_lexer": "ipython3",
   "version": "3.10.12"
  },
  "orig_nbformat": 4
 },
 "nbformat": 4,
 "nbformat_minor": 2
}
