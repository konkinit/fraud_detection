{
 "cells": [
  {
   "cell_type": "code",
   "execution_count": 1,
   "metadata": {},
   "outputs": [
    {
     "ename": "ImportError",
     "evalue": "cannot import name 'Dataframe' from 'pandas' (/opt/mamba/lib/python3.10/site-packages/pandas/__init__.py)",
     "output_type": "error",
     "traceback": [
      "\u001b[0;31m---------------------------------------------------------------------------\u001b[0m",
      "\u001b[0;31mImportError\u001b[0m                               Traceback (most recent call last)",
      "\u001b[1;32m/home/onyxia/work/fraud_detection/notebooks/draft.ipynb Cell 1\u001b[0m line \u001b[0;36m8\n\u001b[1;32m      <a href='vscode-notebook-cell://user-ikonkobo-342685-0.user.lab.sspcloud.fr/home/onyxia/work/fraud_detection/notebooks/draft.ipynb#W0sdnNjb2RlLXJlbW90ZQ%3D%3D?line=3'>4</a>\u001b[0m \u001b[39mimport\u001b[39;00m \u001b[39mtorch\u001b[39;00m\n\u001b[1;32m      <a href='vscode-notebook-cell://user-ikonkobo-342685-0.user.lab.sspcloud.fr/home/onyxia/work/fraud_detection/notebooks/draft.ipynb#W0sdnNjb2RlLXJlbW90ZQ%3D%3D?line=5'>6</a>\u001b[0m os\u001b[39m.\u001b[39mchdir(\u001b[39m\"\u001b[39m\u001b[39m../\u001b[39m\u001b[39m\"\u001b[39m)\n\u001b[0;32m----> <a href='vscode-notebook-cell://user-ikonkobo-342685-0.user.lab.sspcloud.fr/home/onyxia/work/fraud_detection/notebooks/draft.ipynb#W0sdnNjb2RlLXJlbW90ZQ%3D%3D?line=7'>8</a>\u001b[0m \u001b[39mfrom\u001b[39;00m \u001b[39msrc\u001b[39;00m\u001b[39m.\u001b[39;00m\u001b[39mconf\u001b[39;00m \u001b[39mimport\u001b[39;00m LAYERS_DIMS, MODEL_FEATURES\n\u001b[1;32m      <a href='vscode-notebook-cell://user-ikonkobo-342685-0.user.lab.sspcloud.fr/home/onyxia/work/fraud_detection/notebooks/draft.ipynb#W0sdnNjb2RlLXJlbW90ZQ%3D%3D?line=8'>9</a>\u001b[0m \u001b[39mfrom\u001b[39;00m \u001b[39msrc\u001b[39;00m\u001b[39m.\u001b[39;00m\u001b[39mutils\u001b[39;00m \u001b[39mimport\u001b[39;00m get_device\n\u001b[1;32m     <a href='vscode-notebook-cell://user-ikonkobo-342685-0.user.lab.sspcloud.fr/home/onyxia/work/fraud_detection/notebooks/draft.ipynb#W0sdnNjb2RlLXJlbW90ZQ%3D%3D?line=9'>10</a>\u001b[0m \u001b[39mfrom\u001b[39;00m \u001b[39msrc\u001b[39;00m\u001b[39m.\u001b[39;00m\u001b[39mdata\u001b[39;00m \u001b[39mimport\u001b[39;00m DataLoaders\n",
      "File \u001b[0;32m~/work/fraud_detection/src/__init__.py:2\u001b[0m\n\u001b[1;32m      1\u001b[0m \u001b[39mfrom\u001b[39;00m \u001b[39m.\u001b[39;00m\u001b[39mconf\u001b[39;00m \u001b[39mimport\u001b[39;00m configs\n\u001b[0;32m----> 2\u001b[0m \u001b[39mfrom\u001b[39;00m \u001b[39m.\u001b[39;00m\u001b[39mmodels\u001b[39;00m \u001b[39mimport\u001b[39;00m (\n\u001b[1;32m      3\u001b[0m     autoencoder,\n\u001b[1;32m      4\u001b[0m     inference,\n\u001b[1;32m      5\u001b[0m     trainer\n\u001b[1;32m      6\u001b[0m )\n\u001b[1;32m      7\u001b[0m \u001b[39mfrom\u001b[39;00m \u001b[39m.\u001b[39;00m\u001b[39mutils\u001b[39;00m \u001b[39mimport\u001b[39;00m (\n\u001b[1;32m      8\u001b[0m     data_transform,\n\u001b[1;32m      9\u001b[0m     ml_partitions_indices,\n\u001b[1;32m     10\u001b[0m     get_device,\n\u001b[1;32m     11\u001b[0m     losses_dataframe\n\u001b[1;32m     12\u001b[0m )\n\u001b[1;32m     13\u001b[0m \u001b[39mfrom\u001b[39;00m \u001b[39m.\u001b[39;00m\u001b[39mdata\u001b[39;00m \u001b[39mimport\u001b[39;00m data, s3_data\n",
      "File \u001b[0;32m~/work/fraud_detection/src/models/__init__.py:2\u001b[0m\n\u001b[1;32m      1\u001b[0m \u001b[39mfrom\u001b[39;00m \u001b[39m.\u001b[39;00m\u001b[39mautoencoder\u001b[39;00m \u001b[39mimport\u001b[39;00m FraudAutoEncoder\n\u001b[0;32m----> 2\u001b[0m \u001b[39mfrom\u001b[39;00m \u001b[39m.\u001b[39;00m\u001b[39mtrainer\u001b[39;00m \u001b[39mimport\u001b[39;00m Model_Trainer\n\u001b[1;32m      3\u001b[0m \u001b[39mfrom\u001b[39;00m \u001b[39m.\u001b[39;00m\u001b[39minference\u001b[39;00m \u001b[39mimport\u001b[39;00m Model_Inference\n\u001b[1;32m      6\u001b[0m __all__ \u001b[39m=\u001b[39m [\n\u001b[1;32m      7\u001b[0m     \u001b[39m\"\u001b[39m\u001b[39mFraudAutoEncoder\u001b[39m\u001b[39m\"\u001b[39m,\n\u001b[1;32m      8\u001b[0m     \u001b[39m\"\u001b[39m\u001b[39mModel_Trainer\u001b[39m\u001b[39m\"\u001b[39m,\n\u001b[1;32m      9\u001b[0m     \u001b[39m\"\u001b[39m\u001b[39mModel_Inference\u001b[39m\u001b[39m\"\u001b[39m\n\u001b[1;32m     10\u001b[0m ]\n",
      "File \u001b[0;32m~/work/fraud_detection/src/models/trainer.py:15\u001b[0m\n\u001b[1;32m     11\u001b[0m \u001b[39mfrom\u001b[39;00m \u001b[39msrc\u001b[39;00m\u001b[39m.\u001b[39;00m\u001b[39mconf\u001b[39;00m \u001b[39mimport\u001b[39;00m (\n\u001b[1;32m     12\u001b[0m     LAYERS_DIMS, MODEL_FEATURES, TINYDB_FEATURES\n\u001b[1;32m     13\u001b[0m )\n\u001b[1;32m     14\u001b[0m \u001b[39mfrom\u001b[39;00m \u001b[39msrc\u001b[39;00m\u001b[39m.\u001b[39;00m\u001b[39mmodels\u001b[39;00m \u001b[39mimport\u001b[39;00m FraudAutoEncoder\n\u001b[0;32m---> 15\u001b[0m \u001b[39mfrom\u001b[39;00m \u001b[39msrc\u001b[39;00m\u001b[39m.\u001b[39;00m\u001b[39mdata\u001b[39;00m \u001b[39mimport\u001b[39;00m DataLoaders, read_data_from_s3\n\u001b[1;32m     16\u001b[0m \u001b[39mfrom\u001b[39;00m \u001b[39msrc\u001b[39;00m\u001b[39m.\u001b[39;00m\u001b[39mutils\u001b[39;00m \u001b[39mimport\u001b[39;00m get_device, losses_dataframe\n\u001b[1;32m     19\u001b[0m DEVICE \u001b[39m=\u001b[39m get_device(\u001b[39m1\u001b[39m)\n",
      "File \u001b[0;32m~/work/fraud_detection/src/data/__init__.py:2\u001b[0m\n\u001b[1;32m      1\u001b[0m \u001b[39mfrom\u001b[39;00m \u001b[39m.\u001b[39;00m\u001b[39mdata\u001b[39;00m \u001b[39mimport\u001b[39;00m DataLoaders, CustomersDataset\n\u001b[0;32m----> 2\u001b[0m \u001b[39mfrom\u001b[39;00m \u001b[39m.\u001b[39;00m\u001b[39ms3_data\u001b[39;00m \u001b[39mimport\u001b[39;00m read_data_from_s3\n\u001b[1;32m      5\u001b[0m __all__ \u001b[39m=\u001b[39m [\n\u001b[1;32m      6\u001b[0m     \u001b[39m\"\u001b[39m\u001b[39mCustomersDataset\u001b[39m\u001b[39m\"\u001b[39m,\n\u001b[1;32m      7\u001b[0m     \u001b[39m\"\u001b[39m\u001b[39mDataLoaders\u001b[39m\u001b[39m\"\u001b[39m,\n\u001b[1;32m      8\u001b[0m     \u001b[39m\"\u001b[39m\u001b[39mread_data_from_s3\u001b[39m\u001b[39m\"\u001b[39m\n\u001b[1;32m      9\u001b[0m ]\n",
      "File \u001b[0;32m~/work/fraud_detection/src/data/s3_data.py:1\u001b[0m\n\u001b[0;32m----> 1\u001b[0m \u001b[39mfrom\u001b[39;00m \u001b[39mpandas\u001b[39;00m \u001b[39mimport\u001b[39;00m read_parquet, Dataframe\n\u001b[1;32m      2\u001b[0m \u001b[39mimport\u001b[39;00m \u001b[39ms3fs\u001b[39;00m\n\u001b[1;32m      3\u001b[0m \u001b[39mimport\u001b[39;00m \u001b[39myaml\u001b[39;00m\n",
      "\u001b[0;31mImportError\u001b[0m: cannot import name 'Dataframe' from 'pandas' (/opt/mamba/lib/python3.10/site-packages/pandas/__init__.py)"
     ]
    }
   ],
   "source": [
    "import numpy as np\n",
    "import pandas as pd\n",
    "import os\n",
    "import torch\n",
    "\n",
    "os.chdir(\"../\")\n",
    "\n",
    "from src.conf import LAYERS_DIMS, MODEL_FEATURES\n",
    "from src.utils import get_device\n",
    "from src.data import DataLoaders\n",
    "from src.models import FraudAutoEncoder\n",
    "from src.models import Model_Inference"
   ]
  },
  {
   "cell_type": "markdown",
   "metadata": {},
   "source": [
    "## Data Gen"
   ]
  },
  {
   "cell_type": "code",
   "execution_count": null,
   "metadata": {},
   "outputs": [],
   "source": [
    "n_, k_ = 1_000, 300"
   ]
  },
  {
   "cell_type": "code",
   "execution_count": null,
   "metadata": {},
   "outputs": [],
   "source": [
    "pd.DataFrame(\n",
    "    data=np.random.uniform(** {\"low\": -1, \"high\": 1, \"size\": [n_, k_]}),\n",
    "    columns=[f\"X_{str(i).zfill(3)}\" for i in range(1, 1+k_)]\n",
    ").to_parquet(\"./data/simulated_raw_data_new_arrival.gzip\", compression=\"gzip\")"
   ]
  },
  {
   "cell_type": "code",
   "execution_count": null,
   "metadata": {},
   "outputs": [],
   "source": [
    "X = pd.read_parquet(\"/home/onyxia/work/fraud_detection/data/simulated_raw_data_new_arrival.gzip\")"
   ]
  },
  {
   "cell_type": "markdown",
   "metadata": {},
   "source": [
    "## Model Loading"
   ]
  },
  {
   "cell_type": "code",
   "execution_count": null,
   "metadata": {},
   "outputs": [],
   "source": [
    "Model_Inference(\"simulated_data\")._error_eval(X.values[98])"
   ]
  },
  {
   "cell_type": "code",
   "execution_count": null,
   "metadata": {},
   "outputs": [],
   "source": [
    "!nvidia-smi"
   ]
  },
  {
   "cell_type": "code",
   "execution_count": null,
   "metadata": {},
   "outputs": [],
   "source": [
    "import s3fs\n",
    "import yaml\n",
    "\n",
    "with open('./data/acces-key.yaml', 'r') as file:\n",
    "    access_keys = yaml.safe_load(file)\n",
    "\n",
    "fs = s3fs.S3FileSystem(\n",
    "    key = access_keys[\"key\"],\n",
    "    secret = access_keys[\"secret\"]\n",
    ")\n",
    "\n",
    "pd.read_parquet(\n",
    "    fs.open(fs.ls('customer-data-platform-retail/test_data')[0])\n",
    ")"
   ]
  },
  {
   "cell_type": "code",
   "execution_count": null,
   "metadata": {},
   "outputs": [],
   "source": [
    "fs.ls('customer-data-platform-retail/test_data')"
   ]
  },
  {
   "cell_type": "code",
   "execution_count": null,
   "metadata": {},
   "outputs": [],
   "source": []
  }
 ],
 "metadata": {
  "kernelspec": {
   "display_name": "base",
   "language": "python",
   "name": "python3"
  },
  "language_info": {
   "codemirror_mode": {
    "name": "ipython",
    "version": 3
   },
   "file_extension": ".py",
   "mimetype": "text/x-python",
   "name": "python",
   "nbconvert_exporter": "python",
   "pygments_lexer": "ipython3",
   "version": "3.10.12"
  },
  "orig_nbformat": 4
 },
 "nbformat": 4,
 "nbformat_minor": 2
}
