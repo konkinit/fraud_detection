{
 "cells": [
  {
   "cell_type": "code",
   "execution_count": null,
   "metadata": {},
   "outputs": [],
   "source": [
    "import os\n",
    "import torch\n",
    "import numpy as np\n",
    "import pandas as pd\n",
    "import plotly.express as px\n",
    "\n",
    "os.chdir(\"../\")\n",
    "from src.conf import LAYERS_DIMS, MODEL_FEATURES\n",
    "from src.models import FraudAutoEncoder\n",
    "from src.data import DataLoaders"
   ]
  },
  {
   "attachments": {},
   "cell_type": "markdown",
   "metadata": {},
   "source": [
    "# Constantes"
   ]
  },
  {
   "cell_type": "code",
   "execution_count": null,
   "metadata": {},
   "outputs": [],
   "source": [
    "SAMPLING_PARAMS = {\n",
    "    \"low\": -1, \"high\": 1, \"size\" : [5_000, 300]\n",
    "}\n",
    "\n",
    "DATA_SPLIT_FRACS = [0.7, 0.2, 0.1]"
   ]
  },
  {
   "attachments": {},
   "cell_type": "markdown",
   "metadata": {},
   "source": [
    "# Simulated Data for Test"
   ]
  },
  {
   "cell_type": "code",
   "execution_count": null,
   "metadata": {},
   "outputs": [],
   "source": [
    "simul_data = np.random.uniform(**SAMPLING_PARAMS)\n",
    "\n",
    "_simul_data = torch.from_numpy(simul_data)\n",
    "\n",
    "INPUT_DIM = _simul_data.shape[1]"
   ]
  },
  {
   "attachments": {},
   "cell_type": "markdown",
   "metadata": {},
   "source": [
    "# Programs Tests"
   ]
  },
  {
   "cell_type": "code",
   "execution_count": null,
   "metadata": {},
   "outputs": [],
   "source": [
    "# Model configuration\n",
    "device = torch.device(\"cuda\" if torch.cuda.is_available() else \"cpu\")\n",
    "\n",
    "model = FraudAutoEncoder(\n",
    "    INPUT_DIM,\n",
    "    LAYERS_DIMS\n",
    ").to(device)\n",
    "\n",
    "optimizer = torch.optim.Adam(\n",
    "    model.parameters(), lr=MODEL_FEATURES.LEARNING_RATE\n",
    ")\n",
    "\n",
    "loss_criterion = torch.nn.MSELoss()"
   ]
  },
  {
   "cell_type": "code",
   "execution_count": null,
   "metadata": {},
   "outputs": [],
   "source": [
    "# Get Pytorch Dataloaders\n",
    "(\n",
    "    train_dataloader,\n",
    "    validation_dataloader,\n",
    "    test_dataloader\n",
    ") = DataLoaders(_simul_data, DATA_SPLIT_FRACS).get_dataloaders()"
   ]
  },
  {
   "cell_type": "code",
   "execution_count": null,
   "metadata": {},
   "outputs": [],
   "source": [
    "# Model Training\n",
    "training_losses, validation_losses = [], []\n",
    "\n",
    "for epoch in range(MODEL_FEATURES.N_EPOCHS):\n",
    "    for _, inputs in enumerate(train_dataloader):\n",
    "        # Zero gradients for every batch!\n",
    "        optimizer.zero_grad()\n",
    "\n",
    "        # Make encoding and decoding\n",
    "        reconstitued_inputs = model(inputs)\n",
    "\n",
    "        # Compute loss and its gradients on trining datasets\n",
    "        training_loss = loss_criterion(inputs, reconstitued_inputs)\n",
    "        training_loss.backward()\n",
    "\n",
    "        # Adjust learning weights\n",
    "        optimizer.step()\n",
    "\n",
    "    training_losses.append(float(training_loss))\n",
    "\n",
    "    # Inference after each epoch on validation data\n",
    "    for _, validation_inputs in enumerate(validation_dataloader):\n",
    "        reconstitued_validation_inputs = model(validation_inputs)\n",
    "        with torch.no_grad():\n",
    "            validation_loss = loss_criterion(\n",
    "                validation_inputs,\n",
    "                reconstitued_validation_inputs\n",
    "            )\n",
    "\n",
    "    validation_losses.append(float(validation_loss))\n",
    "\n",
    "    print(\"Epoch {:} : Training loss = {:.6f} | Validation loss = {:.6f}\".format(epoch, training_loss, validation_loss))"
   ]
  },
  {
   "cell_type": "code",
   "execution_count": null,
   "metadata": {},
   "outputs": [],
   "source": [
    "df_losses = pd.concat(\n",
    "    [\n",
    "        pd.DataFrame(\n",
    "            {\n",
    "                \"epoch\": range(MODEL_FEATURES.N_EPOCHS),\n",
    "                \"split\": \"train\",\n",
    "                \"loss\": training_losses\n",
    "            }\n",
    "        ),\n",
    "        pd.DataFrame(\n",
    "            {\n",
    "                \"epoch\": range(MODEL_FEATURES.N_EPOCHS),\n",
    "                \"split\": \"validation\",\n",
    "                \"loss\": validation_losses\n",
    "            }\n",
    "        )\n",
    "    ]\n",
    ")"
   ]
  },
  {
   "cell_type": "code",
   "execution_count": null,
   "metadata": {},
   "outputs": [],
   "source": [
    "fig = px.line(\n",
    "    df_losses,\n",
    "    x='epoch', y='loss',\n",
    "    color='split', markers=True,\n",
    "    height=500, width=800\n",
    ")\n",
    "fig.show()"
   ]
  },
  {
   "cell_type": "code",
   "execution_count": null,
   "metadata": {},
   "outputs": [],
   "source": []
  }
 ],
 "metadata": {
  "kernelspec": {
   "display_name": "base",
   "language": "python",
   "name": "python3"
  },
  "language_info": {
   "codemirror_mode": {
    "name": "ipython",
    "version": 3
   },
   "file_extension": ".py",
   "mimetype": "text/x-python",
   "name": "python",
   "nbconvert_exporter": "python",
   "pygments_lexer": "ipython3",
   "version": "3.10.12"
  },
  "orig_nbformat": 4
 },
 "nbformat": 4,
 "nbformat_minor": 2
}
